{
 "cells": [
  {
   "cell_type": "markdown",
   "metadata": {},
   "source": [
    "# AIS Trajectory"
   ]
  },
  {
   "cell_type": "markdown",
   "metadata": {},
   "source": [
    "### Importere biblioteker"
   ]
  },
  {
   "cell_type": "code",
   "execution_count": 9,
   "metadata": {},
   "outputs": [],
   "source": [
    "import pandas as pd\n",
    "import numpy as np\n",
    "from datetime import timedelta\n",
    "from sklearn.linear_model import LinearRegression\n",
    "from sklearn.preprocessing import LabelEncoder\n",
    "import xgboost as xgb\n",
    "from tqdm import tqdm\n"
   ]
  },
  {
   "cell_type": "markdown",
   "metadata": {},
   "source": [
    "### Importer data"
   ]
  },
  {
   "cell_type": "code",
   "execution_count": 10,
   "metadata": {},
   "outputs": [],
   "source": [
    "train_df = pd.read_csv('data/ais_train.csv', sep='|')\n",
    "test_df = pd.read_csv('data/ais_test.csv')\n",
    "\n",
    "ports_df = pd.read_csv('data/ports.csv', sep='|')  \n",
    "schedule_df = pd.read_csv('data/schedules_to_may_2024.csv', sep='|')\n",
    "vessels_df = pd.read_csv('data/vessels.csv', sep='|')\n",
    "\n",
    "vessel0 = train_df['vesselId'][0]\n",
    "original_train_df = train_df.copy(deep = True)\n",
    "original_test_df = test_df.copy(deep = True)"
   ]
  },
  {
   "cell_type": "markdown",
   "metadata": {},
   "source": [
    "### Pre-prosessering"
   ]
  },
  {
   "cell_type": "code",
   "execution_count": 11,
   "metadata": {},
   "outputs": [
    {
     "data": {
      "text/html": [
       "<div>\n",
       "<style scoped>\n",
       "    .dataframe tbody tr th:only-of-type {\n",
       "        vertical-align: middle;\n",
       "    }\n",
       "\n",
       "    .dataframe tbody tr th {\n",
       "        vertical-align: top;\n",
       "    }\n",
       "\n",
       "    .dataframe thead th {\n",
       "        text-align: right;\n",
       "    }\n",
       "</style>\n",
       "<table border=\"1\" class=\"dataframe\">\n",
       "  <thead>\n",
       "    <tr style=\"text-align: right;\">\n",
       "      <th></th>\n",
       "      <th>cog</th>\n",
       "      <th>sog</th>\n",
       "      <th>rot</th>\n",
       "      <th>heading</th>\n",
       "      <th>navstat</th>\n",
       "      <th>latitude</th>\n",
       "      <th>longitude</th>\n",
       "      <th>vesselId</th>\n",
       "      <th>portId</th>\n",
       "      <th>time_numeric</th>\n",
       "      <th>etaRaw_numeric</th>\n",
       "    </tr>\n",
       "  </thead>\n",
       "  <tbody>\n",
       "    <tr>\n",
       "      <th>0</th>\n",
       "      <td>284.0</td>\n",
       "      <td>0.7</td>\n",
       "      <td>0</td>\n",
       "      <td>88</td>\n",
       "      <td>0</td>\n",
       "      <td>-34.74370</td>\n",
       "      <td>-57.85130</td>\n",
       "      <td>50</td>\n",
       "      <td>40</td>\n",
       "      <td>0.0</td>\n",
       "      <td>773975.0</td>\n",
       "    </tr>\n",
       "    <tr>\n",
       "      <th>1</th>\n",
       "      <td>109.6</td>\n",
       "      <td>0.0</td>\n",
       "      <td>-6</td>\n",
       "      <td>347</td>\n",
       "      <td>1</td>\n",
       "      <td>8.89440</td>\n",
       "      <td>-79.47939</td>\n",
       "      <td>189</td>\n",
       "      <td>674</td>\n",
       "      <td>11.0</td>\n",
       "      <td>31435175.0</td>\n",
       "    </tr>\n",
       "    <tr>\n",
       "      <th>2</th>\n",
       "      <td>111.0</td>\n",
       "      <td>11.0</td>\n",
       "      <td>0</td>\n",
       "      <td>112</td>\n",
       "      <td>0</td>\n",
       "      <td>39.19065</td>\n",
       "      <td>-76.47567</td>\n",
       "      <td>432</td>\n",
       "      <td>353</td>\n",
       "      <td>80.0</td>\n",
       "      <td>118775.0</td>\n",
       "    </tr>\n",
       "    <tr>\n",
       "      <th>3</th>\n",
       "      <td>96.4</td>\n",
       "      <td>0.0</td>\n",
       "      <td>0</td>\n",
       "      <td>142</td>\n",
       "      <td>1</td>\n",
       "      <td>-34.41189</td>\n",
       "      <td>151.02067</td>\n",
       "      <td>110</td>\n",
       "      <td>18</td>\n",
       "      <td>166.0</td>\n",
       "      <td>31607975.0</td>\n",
       "    </tr>\n",
       "    <tr>\n",
       "      <th>4</th>\n",
       "      <td>214.0</td>\n",
       "      <td>19.7</td>\n",
       "      <td>0</td>\n",
       "      <td>215</td>\n",
       "      <td>0</td>\n",
       "      <td>35.88379</td>\n",
       "      <td>-5.91636</td>\n",
       "      <td>356</td>\n",
       "      <td>605</td>\n",
       "      <td>206.0</td>\n",
       "      <td>2116775.0</td>\n",
       "    </tr>\n",
       "  </tbody>\n",
       "</table>\n",
       "</div>"
      ],
      "text/plain": [
       "     cog   sog  rot  heading  navstat  latitude  longitude  vesselId  portId  \\\n",
       "0  284.0   0.7    0       88        0 -34.74370  -57.85130        50      40   \n",
       "1  109.6   0.0   -6      347        1   8.89440  -79.47939       189     674   \n",
       "2  111.0  11.0    0      112        0  39.19065  -76.47567       432     353   \n",
       "3   96.4   0.0    0      142        1 -34.41189  151.02067       110      18   \n",
       "4  214.0  19.7    0      215        0  35.88379   -5.91636       356     605   \n",
       "\n",
       "   time_numeric  etaRaw_numeric  \n",
       "0           0.0        773975.0  \n",
       "1          11.0      31435175.0  \n",
       "2          80.0        118775.0  \n",
       "3         166.0      31607975.0  \n",
       "4         206.0       2116775.0  "
      ]
     },
     "metadata": {},
     "output_type": "display_data"
    }
   ],
   "source": [
    "train_df = pd.read_csv('data/ais_train.csv', sep='|')\n",
    "test_df = pd.read_csv('data/ais_test.csv')\n",
    "\n",
    "ports_df = pd.read_csv('data/ports.csv', sep='|')  \n",
    "schedule_df = pd.read_csv('data/schedules_to_may_2024.csv', sep='|')\n",
    "vessels_df = pd.read_csv('data/vessels.csv', sep='|')\n",
    "\n",
    "original_train_df = train_df.copy(deep = True)\n",
    "original_test_df = test_df.copy(deep = True)\n",
    "\n",
    "# Convert 'time' to datetime\n",
    "train_df['time'] = pd.to_datetime(train_df['time'])\n",
    "test_df['time'] = pd.to_datetime(test_df['time'])\n",
    "\n",
    "# Ensure 'vesselId' is string\n",
    "train_df['vesselId'] = train_df['vesselId'].astype(str)\n",
    "test_df['vesselId'] = test_df['vesselId'].astype(str)\n",
    "\n",
    "# Convert 'time' to numeric format\n",
    "train_df['time_numeric'] = (train_df['time'] - train_df['time'].min()).dt.total_seconds()\n",
    "test_df['time_numeric'] = (test_df['time'] - train_df['time'].min()).dt.total_seconds()\n",
    "\n",
    "# Convert 'portId' to numeric format\n",
    "le = LabelEncoder()\n",
    "le.fit(train_df['portId'])\n",
    "train_df['portId'] = le.transform(train_df['portId'])\n",
    "\n",
    "# Convert 'vesselId' to numeric format\n",
    "le_vesselId = LabelEncoder()\n",
    "le_vesselId.fit(train_df['vesselId'])\n",
    "train_df['vesselId'] = le_vesselId.transform(train_df['vesselId'])\n",
    "test_df['vesselId'] = le_vesselId.transform(test_df['vesselId']) \n",
    "\n",
    "train_df['etaRaw'] = train_df['etaRaw'].dropna()\n",
    "\n",
    "train_df['etaRaw'] = pd.to_datetime(train_df['etaRaw'], format='%m-%d %H:%M', errors='coerce')\n",
    "train_df['etaRaw'] = train_df['etaRaw'].apply(lambda x: x.replace(year=2024) if pd.notnull(x) else x)\n",
    "\n",
    "train_df['etaRaw_numeric'] = (train_df['etaRaw'] - train_df['time'].min()).dt.total_seconds()\n",
    "\n",
    "# drop etaRaw og time\n",
    "train_df = train_df.drop(columns=['etaRaw', 'time'])\n",
    "\n",
    "# Drop Nan values\n",
    "train_df = train_df.dropna()    \n",
    "\n",
    "display(train_df.head())\n"
   ]
  },
  {
   "cell_type": "markdown",
   "metadata": {},
   "source": [
    "### Feature engineering"
   ]
  },
  {
   "cell_type": "markdown",
   "metadata": {},
   "source": [
    "### Fit model"
   ]
  },
  {
   "cell_type": "code",
   "execution_count": 12,
   "metadata": {},
   "outputs": [],
   "source": [
    "# Fit linear regression models for each vessel\n",
    "lat_models = {}\n",
    "lon_models = {}\n",
    "\n",
    "vessels = train_df['vesselId'].unique()\n",
    "for vessel in vessels:\n",
    "    vessel_data = train_df[train_df['vesselId'] == vessel]\n",
    "    \n",
    "    if len(vessel_data) < 2:\n",
    "        continue\n",
    "    \n",
    "    X = vessel_data[['time_numeric']]\n",
    "    y_lat = vessel_data['latitude']\n",
    "    y_lon = vessel_data['longitude']\n",
    "    \n",
    "    lat_model = xgb.XGBRegressor().fit(X, y_lat)\n",
    "    lon_model = xgb.XGBRegressor().fit(X, y_lon)\n",
    "    \n",
    "    lat_models[vessel] = lat_model\n",
    "    lon_models[vessel] = lon_model\n",
    "\n",
    "# Handle vessels not in training data\n",
    "vessels_in_train = set(lat_models.keys())\n",
    "vessels_in_test = set(test_df['vesselId'].unique())\n",
    "vessels_not_in_train = vessels_in_test - vessels_in_train\n",
    "\n",
    "# Global models\n",
    "global_lat_model = xgb.XGBRegressor().fit(train_df[['time_numeric']], train_df['latitude'])\n",
    "global_lon_model = xgb.XGBRegressor().fit(train_df[['time_numeric']], train_df['longitude'])"
   ]
  },
  {
   "cell_type": "markdown",
   "metadata": {},
   "source": [
    "### Predict"
   ]
  },
  {
   "cell_type": "code",
   "execution_count": 13,
   "metadata": {},
   "outputs": [
    {
     "name": "stderr",
     "output_type": "stream",
     "text": [
      "Predicting Positions: 100%|██████████| 51739/51739 [03:15<00:00, 264.22it/s]\n"
     ]
    }
   ],
   "source": [
    "# Predict positions with a progress bar\n",
    "lat_preds = []\n",
    "lon_preds = []\n",
    "\n",
    "# Wrap the iterrows() loop with tqdm to add a progress bar\n",
    "for index, row in tqdm(test_df.iterrows(), total=len(test_df), desc=\"Predicting Positions\"):\n",
    "    vessel = row['vesselId']\n",
    "    time_numeric = row['time_numeric']\n",
    "    \n",
    "    if vessel in lat_models:\n",
    "        lat_model = lat_models[vessel]\n",
    "        lon_model = lon_models[vessel]\n",
    "    else:\n",
    "        lat_model = global_lat_model\n",
    "        lon_model = global_lon_model\n",
    "    \n",
    "    # Convert time_numeric to DataFrame with appropriate column name\n",
    "    time_numeric_df = pd.DataFrame({'time_numeric': [time_numeric]})\n",
    "    \n",
    "    lat_pred = lat_model.predict(time_numeric_df)[0]\n",
    "    lon_pred = lon_model.predict(time_numeric_df)[0]\n",
    "    \n",
    "    lat_preds.append(lat_pred)\n",
    "    lon_preds.append(lon_pred)\n",
    "\n",
    "# Store predictions in test_df\n",
    "test_df['latitude_predicted'] = lat_preds\n",
    "test_df['longitude_predicted'] = lon_preds\n",
    "\n",
    "\n"
   ]
  },
  {
   "cell_type": "markdown",
   "metadata": {},
   "source": [
    " ID  longitude_predicted  latitude_predicted\n",
    "0   0           -13.511171           41.366013\n",
    "1   1           -17.383448           19.439676\n",
    "2   2            -3.541152           34.733105\n",
    "3   3            71.226295            5.466014\n",
    "4   4            -9.340018           48.589073"
   ]
  },
  {
   "cell_type": "markdown",
   "metadata": {},
   "source": [
    "### Eksporter til csv"
   ]
  },
  {
   "cell_type": "code",
   "execution_count": 16,
   "metadata": {},
   "outputs": [
    {
     "name": "stdout",
     "output_type": "stream",
     "text": [
      "Få den jævla \"predictions.csv\" filen inn på Kaggle og se om det funker\n"
     ]
    }
   ],
   "source": [
    "test_df.to_csv('predictions.csv', index=False)\n",
    "print('Få den jævla \"predictions.csv\" filen inn på Kaggle og se om det funker')"
   ]
  }
 ],
 "metadata": {
  "kernelspec": {
   "display_name": "Python 3",
   "language": "python",
   "name": "python3"
  },
  "language_info": {
   "codemirror_mode": {
    "name": "ipython",
    "version": 3
   },
   "file_extension": ".py",
   "mimetype": "text/x-python",
   "name": "python",
   "nbconvert_exporter": "python",
   "pygments_lexer": "ipython3",
   "version": "3.11.5"
  }
 },
 "nbformat": 4,
 "nbformat_minor": 2
}
